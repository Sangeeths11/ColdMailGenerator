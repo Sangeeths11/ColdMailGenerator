{
 "cells": [
  {
   "cell_type": "code",
   "execution_count": 3,
   "metadata": {},
   "outputs": [],
   "source": [
    "import os\n",
    "from langchain_groq import ChatGroq\n",
    "from dotenv import load_dotenv"
   ]
  },
  {
   "cell_type": "code",
   "execution_count": 4,
   "metadata": {},
   "outputs": [],
   "source": [
    "load_dotenv()\n",
    "\n",
    "gropApiKey = os.getenv(\"GROQ_API_KEY\")"
   ]
  },
  {
   "cell_type": "code",
   "execution_count": 5,
   "metadata": {},
   "outputs": [
    {
     "name": "stdout",
     "output_type": "stream",
     "text": [
      "The first person to land on the moon was Neil Armstrong. He stepped onto the lunar surface on July 20, 1969, as part of the Apollo 11 mission.\n"
     ]
    }
   ],
   "source": [
    "llm = ChatGroq(\n",
    "    temperature=0, \n",
    "    groq_api_key=gropApiKey, \n",
    "    model_name=\"llama-3.1-70b-versatile\"\n",
    ")\n",
    "response = llm.invoke(\"The first person to land on moon was ...\")\n",
    "print(response.content)"
   ]
  },
  {
   "cell_type": "markdown",
   "metadata": {},
   "source": [
    "### Webscrapper from the website"
   ]
  },
  {
   "cell_type": "code",
   "execution_count": 7,
   "metadata": {},
   "outputs": [
    {
     "name": "stdout",
     "output_type": "stream",
     "text": [
      "Bewirb dich für Lead Software Engineer, ITC\n",
      "\n",
      "JobsucheNavigation überspringenJobsucheNIKE, INC. JOBSBefristete JobsJoin The Talent CommunityUnser Leben bei NikeÜbersichtLeistungenMarkenÜbersichtJordanConverseTeamsÜbersichtAdministrative SupportAdvanced InnovationAir Manufacturing InnovationAviationCommunicationsCustomer ServiceDesignDigitalFacilitiesFinance & AccountingGovernment & Public Affairs\n",
      "Human ResourcesData & AnalyticsLegalManufacturing & EngineeringMarketingMerchandisingPlanningPrivacyProcurementProduct Creation, Development & ManagementRetail CorporateRetail StoresSalesSocial & Community ImpactSports MarketingStrategic PlanningSupply Chain, Distribution & LogisticsSustainabilityTechnologyStandorteÜbersichtNike WHQNike New York HQEHQ: Hilversum, NiederlandeELC: Laakdal, BelgiumGreater China HQDiversität, Gleichstellung und InklusionÜbersichtMilitärBehinderung und InklusionInklusion der indigenen BevölkerungPraktikaTechnologyLead Software Engineer, ITCKarnataka, IndiaWerde Teil des Teams von NIKE, Inc.  NIKE, Inc. stattet nicht nur die besten Athleten der Welt aus. Wir erkunden neue Möglichkeiten, finden Wege und überwinden die Grenzen des Machbaren. Unser Unternehmen sucht nach Menschen, die wachsen, denken, träumen und gestalten möchten. Unsere Unternehmenskultur schätzt Vielfalt und belohnt Einfallsreichtum. Unsere Marke sucht Menschen, die ihre Ziele erreichen, Führungsfähigkeiten haben und den Blick in die Zukunft richten. Bei NIKE, Inc. bringen alle Mitarbeiterinnen und Mitarbeiter ihre Fähigkeiten ein und nehmen immer neue Herausforderungen mit Leidenschaft an.NIKE ist ein Technologieunternehmen. Unsere Teams bei NIKE Global Technology revolutionieren die Zukunft in der Synergie von Technik und Sport – von unserer state-of-the-art Website und unseren 5-Sterne-Apps bis hin zu Produktentwicklung, Verwaltung von Big Data und hochmodernem Engineering und Systemsupport. Wir investieren in Technologien und entwickeln sie weiter. Bei uns arbeiten einige der kreativsten Köpfe der Welt. Wir unterstützen sie darin, Kunden zu helfen, sich neu- und weiterzuentwickeln und ihnen dabei direkt und persönlich zu helfen.  Unsere Teams sind innovativ, vielseitig und Meister mehrerer Disziplinen. Gemeinsam treiben sie Technologie an und nehmen die Welt dabei gleich mit.Supply Chain & Planning Technology (SCPT) team under GlobaL Technology (GT) at Nike  is implementing Integrated Business Planning across demand and supply management. Our vision is to optimize demand and supply to serve customers and drive profitable growth through Merchandize Financial Planning and Assortment planning for Nike Consumer Channels and its Partners. Primary focus is to build technology platforms harnessing the data, art and science to drive better business decisions and outcomes. We will do this by creating an environment where everyone thrives with a growth mindset culture with smart risk taking, measurement and continuous learning. Our products will be driven by Customer focus, User centric design and mindset.WHO WE ARE LOOKING FORIn this role we are looking for a high potential Lead Engineer with strong Planning domain expertise to lead and mentor a team of engineers with a focus to develop solutions for the various products of Demand & Supply Planning capability. As a Lead Engineer you are thoughtful, aspirational and adept at solutioning, architecture and hands on delivery.Advocate and implement business transformation solutions and best practices.Advocate DevOps practices & mindset and strong culture of innovationWHAT YOU WILL WORK ONDemand  & Supply planning application deisgn and implementation with emphasis on distributed systems concepts.Implement business solutions leveraging custom data platform and O9  platform.Design, develop, configure ,review code, and deploy cloud-based products.Drive engineering activities from designing through deployment while adhering to established Architectural guidelines and principles.Collaborate with other stake holders across the Enterprise, Planning technical platforms, technology stack and solutions to meet demand of our ever-changing consumer needs.Provide insights for developing and communicating Technology Strategy and roadmap; ensure alignment to planing technology strategies.Manage and prioritize the product backlog on an ongoing basis and lead work through Agile practices.Commitment to and hands-on experience in leading/performing technical quality reviews and test-driven development.Build strong domain acumen to deliver to product strategy, value drops and business outcomesWHO YOU WILL WORK WITHCollaborate with Product Managers to understand requirements to define scope and estimate level of effort. Ensure that Engineers on the team have the full context and understanding of customers and business requirements to create valuable solutions.Help build an effective team and partnership with stakeholders.Lead, mentor, and inspire Engineering team, managing work and delivering high performing solutions.Establish trust and build strong and effective partnership with technical leaders and architects in various functions across regions/global locationsPartner effectively with vendor partners contingent workforce to ensure delivery and positive resultsThis role will report to the leader of Engineering accountable to deliver demand and supply capability solutions to Nike Planning users.WHAT YOU BRINGBachelor of Engineering in Computer Science, Information Systems or other relevant subject area related to information technology8+ years hands on experience in technical architecture, design, development & of demand or inventory planning products/applicationsHands on development and configuration in supporting product needs.Experience in Integrated Business Planning solutions like O9 is MandatoryStrong techno-functional experience in planning business domain, data domains, planning algorithms and solvers.Strong experience in PL/SQL and working on data products and data analysis of Planinng is required.A minimum of 3 years of experience working cloud environments such as AWS, Azure or GCPExcellent understanding of business processes in Enterprise Planning–preferably in end to end demand and supply Planning and Deployment.Expert knowledge and experience with a diversity of tools and platformsProven ability to rapidly learn new functional domains, developing and implementing proof of conceptsExperience developing applications that has data and app complexityExperience with Scrum and other Agile processes. Knowledge of Jira, Git/SVN, Jenkins, CI/CD pipelinesComfortable working in a multi-tasking, fast-paced, results-oriented environment and maturity in understanding and managing team dyanmics.Excellent verbal and written communication and collaboration skills to effectively communicate with both business and technical IT teams across global locationsPassion for building trust, coaching, teaching, mentoring and learning.NIKE, Inc. ist ein Wachstumsunternehmen, das nach Mitarbeiterinnen und Mitarbeitern sucht, die mit uns wachsen möchten. Nike bietet ein großzügiges Leistungspaket, ein ungezwungenes Arbeitsumfeld, eine vielfältige und inklusive Unternehmenskultur und eine Atmosphäre, die berufliche Weiterentwicklung begünstigt. Unabhängig von Standort und Rolle verfolgen alle Beschäftigten von Nike gemeinsam ein Ziel: Jedem Athleten* der Welt Inspiration und Innovation zu bringen.NIKE, Inc. legt bei der Auswahl seiner Mitarbeiter Wert auf Vielfalt. Wir prüfen qualifizierte Bewerber ohne Berücksichtigung von ethnischer Zugehörigkeit, Herkunft, Religion, Nationalität, Alter, sexueller Orientierung, Geschlecht, Geschlechtsidentität, Veteranenstatus und Behinderung.Unser EinstellungsverfahrenWir bei NIKE, Inc. sind darauf bedacht, ein erstklassiges, integratives, spannendes und authentisches Bewerbungsverfahren zu bieten. Das heißt: Wir wollen, dass du dich von deiner besten Seite zeigen kannst. Dazu solltest du wissen, wie unser Einstellungsverfahren funktioniert. Transparenz ist der Schlüssel.\n",
      "\n",
      "*In dieser Übersicht wird unser Einstellungsverfahren für unternehmensinterne Rollen erläutert. Beachte, dass für nicht unternehmensinterne Rollen möglicherweise abweichende Einstellungsschritte erforderlich sind.Jetzt anfangenLeistungenVon der Mobilität bis hin zu finanzieller Sicherheit: Wir investieren fortwährend in unsere Mitarbeiter, um ihnen dabei zu helfen, Großes zu leisten – am Arbeitsplatz und darüber hinaus. All unsere Mitarbeiter sollen in der Lage sein, ihr volles Potenzial auszuschöpfen.Mitarbeiterberatung und ‑unterstützungUrlaubKrankenversicherungBezahlter UrlaubRabatt auf ProdukteMehr erfahrenGESCHENKGUTSCHEINESTORE SUCHENNIKE JOURNALMEMBER WERDENSTUDENTENRABATTFEEDBACKAKTIONSCODESHILFEHILFEBestellstatusVersand und LieferungRückgabeZahlungsoptionenKontaktNike Aktionscodes - HilfeÜBER NIKEÜBER NIKENeuigkeitenKarriereInvestorenNachhaltigkeitNIKE APPSNIKE APPSNike AppNike Run ClubNike Training ClubSNKRSDeutschland© 2024 Nike, Inc. Alle Rechte vorbehaltenGuidesNike AdaptNike FlyEaseNike FreeNike VaporflyNBA-FanausrüstungNike AirNike FlyknitNike PegasusNike Zoom FlyFactory StoreNike Air MaxNike FlyleatherNike ReactNike ZoomXKids AirtopiaNutzungsbedingungenVerkaufsbedingungenImpressumDatenschutzrichtlinie und Cookie-ErklärungCookie-Einstellungen ändern.\n"
     ]
    }
   ],
   "source": [
    "from langchain_community.document_loaders import WebBaseLoader\n",
    "\n",
    "loader = WebBaseLoader(\"https://jobs.nike.com/de/job/R-36827\")\n",
    "page_data = loader.load().pop().page_content\n",
    "print(page_data)"
   ]
  },
  {
   "cell_type": "markdown",
   "metadata": {},
   "source": [
    "### Prompt Template"
   ]
  },
  {
   "cell_type": "code",
   "execution_count": 8,
   "metadata": {},
   "outputs": [
    {
     "data": {
      "text/plain": [
       "str"
      ]
     },
     "execution_count": 8,
     "metadata": {},
     "output_type": "execute_result"
    }
   ],
   "source": [
    "from langchain_core.prompts import PromptTemplate\n",
    "\n",
    "prompt_extract = PromptTemplate.from_template(\n",
    "        \"\"\"\n",
    "        ### SCRAPED TEXT FROM WEBSITE:\n",
    "        {page_data}\n",
    "        ### INSTRUCTION:\n",
    "        The scraped text is from the career's page of a website.\n",
    "        Your job is to extract the job postings and return them in JSON format containing the \n",
    "        following keys: `role`, `experience`, `skills` and `description`.\n",
    "        Only return the valid JSON.\n",
    "        ### VALID JSON (NO PREAMBLE):    \n",
    "        \"\"\"\n",
    ")\n",
    "\n",
    "chain_extract = prompt_extract | llm \n",
    "res = chain_extract.invoke(input={'page_data':page_data})\n",
    "type(res.content)"
   ]
  },
  {
   "cell_type": "markdown",
   "metadata": {},
   "source": [
    "### JSON Encoding"
   ]
  },
  {
   "cell_type": "code",
   "execution_count": 9,
   "metadata": {},
   "outputs": [
    {
     "data": {
      "text/plain": [
       "{'role': 'Lead Software Engineer, ITC',\n",
       " 'experience': '8+ years hands on experience in technical architecture, design, development & of demand or inventory planning products/applications',\n",
       " 'skills': ['Integrated Business Planning solutions like O9',\n",
       "  'PL/SQL',\n",
       "  'Cloud environments such as AWS, Azure or GCP',\n",
       "  'Scrum and other Agile processes',\n",
       "  'Jira, Git/SVN, Jenkins, CI/CD pipelines'],\n",
       " 'description': 'Lead and mentor a team of engineers with a focus to develop solutions for the various products of Demand & Supply Planning capability. Advocate and implement business transformation solutions and best practices. Advocate DevOps practices & mindset and strong culture of innovation.'}"
      ]
     },
     "execution_count": 9,
     "metadata": {},
     "output_type": "execute_result"
    }
   ],
   "source": [
    "from langchain_core.output_parsers import JsonOutputParser\n",
    "\n",
    "json_parser = JsonOutputParser()\n",
    "json_res = json_parser.parse(res.content)\n",
    "json_res"
   ]
  },
  {
   "cell_type": "code",
   "execution_count": 10,
   "metadata": {},
   "outputs": [
    {
     "data": {
      "text/plain": [
       "dict"
      ]
     },
     "execution_count": 10,
     "metadata": {},
     "output_type": "execute_result"
    }
   ],
   "source": [
    "type(json_res)"
   ]
  },
  {
   "cell_type": "markdown",
   "metadata": {},
   "source": [
    "#### Reading the CSV file"
   ]
  },
  {
   "cell_type": "code",
   "execution_count": 12,
   "metadata": {},
   "outputs": [
    {
     "data": {
      "text/html": [
       "<div>\n",
       "<style scoped>\n",
       "    .dataframe tbody tr th:only-of-type {\n",
       "        vertical-align: middle;\n",
       "    }\n",
       "\n",
       "    .dataframe tbody tr th {\n",
       "        vertical-align: top;\n",
       "    }\n",
       "\n",
       "    .dataframe thead th {\n",
       "        text-align: right;\n",
       "    }\n",
       "</style>\n",
       "<table border=\"1\" class=\"dataframe\">\n",
       "  <thead>\n",
       "    <tr style=\"text-align: right;\">\n",
       "      <th></th>\n",
       "      <th>Techstack</th>\n",
       "      <th>Links</th>\n",
       "    </tr>\n",
       "  </thead>\n",
       "  <tbody>\n",
       "    <tr>\n",
       "      <th>0</th>\n",
       "      <td>React, Node.js, MongoDB</td>\n",
       "      <td>https://example.com/react-portfolio</td>\n",
       "    </tr>\n",
       "    <tr>\n",
       "      <th>1</th>\n",
       "      <td>Angular,.NET, SQL Server</td>\n",
       "      <td>https://example.com/angular-portfolio</td>\n",
       "    </tr>\n",
       "    <tr>\n",
       "      <th>2</th>\n",
       "      <td>Vue.js, Ruby on Rails, PostgreSQL</td>\n",
       "      <td>https://example.com/vue-portfolio</td>\n",
       "    </tr>\n",
       "    <tr>\n",
       "      <th>3</th>\n",
       "      <td>Python, Django, MySQL</td>\n",
       "      <td>https://example.com/python-portfolio</td>\n",
       "    </tr>\n",
       "    <tr>\n",
       "      <th>4</th>\n",
       "      <td>Java, Spring Boot, Oracle</td>\n",
       "      <td>https://example.com/java-portfolio</td>\n",
       "    </tr>\n",
       "    <tr>\n",
       "      <th>5</th>\n",
       "      <td>Flutter, Firebase, GraphQL</td>\n",
       "      <td>https://example.com/flutter-portfolio</td>\n",
       "    </tr>\n",
       "    <tr>\n",
       "      <th>6</th>\n",
       "      <td>WordPress, PHP, MySQL</td>\n",
       "      <td>https://example.com/wordpress-portfolio</td>\n",
       "    </tr>\n",
       "    <tr>\n",
       "      <th>7</th>\n",
       "      <td>Magento, PHP, MySQL</td>\n",
       "      <td>https://example.com/magento-portfolio</td>\n",
       "    </tr>\n",
       "    <tr>\n",
       "      <th>8</th>\n",
       "      <td>React Native, Node.js, MongoDB</td>\n",
       "      <td>https://example.com/react-native-portfolio</td>\n",
       "    </tr>\n",
       "    <tr>\n",
       "      <th>9</th>\n",
       "      <td>iOS, Swift, Core Data</td>\n",
       "      <td>https://example.com/ios-portfolio</td>\n",
       "    </tr>\n",
       "    <tr>\n",
       "      <th>10</th>\n",
       "      <td>Android, Java, Room Persistence</td>\n",
       "      <td>https://example.com/android-portfolio</td>\n",
       "    </tr>\n",
       "    <tr>\n",
       "      <th>11</th>\n",
       "      <td>Kotlin, Android, Firebase</td>\n",
       "      <td>https://example.com/kotlin-android-portfolio</td>\n",
       "    </tr>\n",
       "    <tr>\n",
       "      <th>12</th>\n",
       "      <td>Android TV, Kotlin, Android NDK</td>\n",
       "      <td>https://example.com/android-tv-portfolio</td>\n",
       "    </tr>\n",
       "    <tr>\n",
       "      <th>13</th>\n",
       "      <td>iOS, Swift, ARKit</td>\n",
       "      <td>https://example.com/ios-ar-portfolio</td>\n",
       "    </tr>\n",
       "    <tr>\n",
       "      <th>14</th>\n",
       "      <td>Cross-platform, Xamarin, Azure</td>\n",
       "      <td>https://example.com/xamarin-portfolio</td>\n",
       "    </tr>\n",
       "    <tr>\n",
       "      <th>15</th>\n",
       "      <td>Backend, Kotlin, Spring Boot</td>\n",
       "      <td>https://example.com/kotlin-backend-portfolio</td>\n",
       "    </tr>\n",
       "    <tr>\n",
       "      <th>16</th>\n",
       "      <td>Frontend, TypeScript, Angular</td>\n",
       "      <td>https://example.com/typescript-frontend-portfolio</td>\n",
       "    </tr>\n",
       "    <tr>\n",
       "      <th>17</th>\n",
       "      <td>Full-stack, JavaScript, Express.js</td>\n",
       "      <td>https://example.com/full-stack-js-portfolio</td>\n",
       "    </tr>\n",
       "    <tr>\n",
       "      <th>18</th>\n",
       "      <td>Machine Learning, Python, TensorFlow</td>\n",
       "      <td>https://example.com/ml-python-portfolio</td>\n",
       "    </tr>\n",
       "    <tr>\n",
       "      <th>19</th>\n",
       "      <td>DevOps, Jenkins, Docker</td>\n",
       "      <td>https://example.com/devops-portfolio</td>\n",
       "    </tr>\n",
       "  </tbody>\n",
       "</table>\n",
       "</div>"
      ],
      "text/plain": [
       "                               Techstack  \\\n",
       "0                React, Node.js, MongoDB   \n",
       "1               Angular,.NET, SQL Server   \n",
       "2      Vue.js, Ruby on Rails, PostgreSQL   \n",
       "3                  Python, Django, MySQL   \n",
       "4              Java, Spring Boot, Oracle   \n",
       "5             Flutter, Firebase, GraphQL   \n",
       "6                  WordPress, PHP, MySQL   \n",
       "7                    Magento, PHP, MySQL   \n",
       "8         React Native, Node.js, MongoDB   \n",
       "9                  iOS, Swift, Core Data   \n",
       "10       Android, Java, Room Persistence   \n",
       "11             Kotlin, Android, Firebase   \n",
       "12       Android TV, Kotlin, Android NDK   \n",
       "13                     iOS, Swift, ARKit   \n",
       "14        Cross-platform, Xamarin, Azure   \n",
       "15          Backend, Kotlin, Spring Boot   \n",
       "16         Frontend, TypeScript, Angular   \n",
       "17    Full-stack, JavaScript, Express.js   \n",
       "18  Machine Learning, Python, TensorFlow   \n",
       "19               DevOps, Jenkins, Docker   \n",
       "\n",
       "                                                Links  \n",
       "0                 https://example.com/react-portfolio  \n",
       "1               https://example.com/angular-portfolio  \n",
       "2                   https://example.com/vue-portfolio  \n",
       "3                https://example.com/python-portfolio  \n",
       "4                  https://example.com/java-portfolio  \n",
       "5               https://example.com/flutter-portfolio  \n",
       "6             https://example.com/wordpress-portfolio  \n",
       "7               https://example.com/magento-portfolio  \n",
       "8          https://example.com/react-native-portfolio  \n",
       "9                   https://example.com/ios-portfolio  \n",
       "10              https://example.com/android-portfolio  \n",
       "11       https://example.com/kotlin-android-portfolio  \n",
       "12           https://example.com/android-tv-portfolio  \n",
       "13               https://example.com/ios-ar-portfolio  \n",
       "14              https://example.com/xamarin-portfolio  \n",
       "15       https://example.com/kotlin-backend-portfolio  \n",
       "16  https://example.com/typescript-frontend-portfolio  \n",
       "17        https://example.com/full-stack-js-portfolio  \n",
       "18            https://example.com/ml-python-portfolio  \n",
       "19               https://example.com/devops-portfolio  "
      ]
     },
     "execution_count": 12,
     "metadata": {},
     "output_type": "execute_result"
    }
   ],
   "source": [
    "import pandas as pd\n",
    "\n",
    "df = pd.read_csv('..\\\\myPortfolio.csv')\n",
    "df"
   ]
  },
  {
   "cell_type": "markdown",
   "metadata": {},
   "source": [
    "### Adding the data to the database on disk"
   ]
  },
  {
   "cell_type": "code",
   "execution_count": 13,
   "metadata": {},
   "outputs": [],
   "source": [
    "import uuid\n",
    "import chromadb\n",
    "\n",
    "client = chromadb.PersistentClient('vectorstore')\n",
    "collection = client.get_or_create_collection(name=\"portfolio\")\n",
    "\n",
    "if not collection.count():\n",
    "    for _, row in df.iterrows():\n",
    "        collection.add(documents=row[\"Techstack\"],\n",
    "                       metadatas={\"links\": row[\"Links\"]},\n",
    "                       ids=[str(uuid.uuid4())])"
   ]
  },
  {
   "cell_type": "code",
   "execution_count": 15,
   "metadata": {},
   "outputs": [],
   "source": [
    "job = json_res"
   ]
  },
  {
   "cell_type": "code",
   "execution_count": 16,
   "metadata": {},
   "outputs": [
    {
     "data": {
      "text/plain": [
       "[[{'links': 'https://example.com/android-portfolio'},\n",
       "  {'links': 'https://example.com/angular-portfolio'}],\n",
       " [{'links': 'https://example.com/magento-portfolio'},\n",
       "  {'links': 'https://example.com/wordpress-portfolio'}],\n",
       " [{'links': 'https://example.com/xamarin-portfolio'},\n",
       "  {'links': 'https://example.com/devops-portfolio'}],\n",
       " [{'links': 'https://example.com/devops-portfolio'},\n",
       "  {'links': 'https://example.com/kotlin-backend-portfolio'}],\n",
       " [{'links': 'https://example.com/devops-portfolio'},\n",
       "  {'links': 'https://example.com/vue-portfolio'}]]"
      ]
     },
     "execution_count": 16,
     "metadata": {},
     "output_type": "execute_result"
    }
   ],
   "source": [
    "links = collection.query(query_texts=job['skills'], n_results=2).get('metadatas', [])\n",
    "links"
   ]
  },
  {
   "cell_type": "code",
   "execution_count": 18,
   "metadata": {},
   "outputs": [
    {
     "data": {
      "text/plain": [
       "['Integrated Business Planning solutions like O9',\n",
       " 'PL/SQL',\n",
       " 'Cloud environments such as AWS, Azure or GCP',\n",
       " 'Scrum and other Agile processes',\n",
       " 'Jira, Git/SVN, Jenkins, CI/CD pipelines']"
      ]
     },
     "execution_count": 18,
     "metadata": {},
     "output_type": "execute_result"
    }
   ],
   "source": [
    "job['skills']"
   ]
  },
  {
   "cell_type": "code",
   "execution_count": 19,
   "metadata": {},
   "outputs": [
    {
     "name": "stdout",
     "output_type": "stream",
     "text": [
      "Subject: Expert Software Development Solutions for Your ITC Needs\n",
      "\n",
      "Dear Hiring Manager,\n",
      "\n",
      "I came across the job description for a Lead Software Engineer, ITC, and I believe AtliQ can provide the expertise and support you need to develop innovative solutions for your demand and supply planning capabilities.\n",
      "\n",
      "At AtliQ, we specialize in AI and software consulting, empowering enterprises to streamline their business processes through automated tools. Our team of experts has a proven track record of delivering tailored solutions that drive scalability, process optimization, cost reduction, and heightened overall efficiency.\n",
      "\n",
      "Our capabilities align perfectly with your requirements, particularly in the areas of:\n",
      "\n",
      "* Integrated Business Planning solutions\n",
      "* Cloud environments such as AWS, Azure, or GCP\n",
      "* DevOps practices and CI/CD pipelines\n",
      "* Agile methodologies like Scrum\n",
      "\n",
      "We have a strong portfolio of successful projects that demonstrate our expertise in these areas. Some relevant examples include:\n",
      "\n",
      "* Our DevOps portfolio: https://example.com/devops-portfolio\n",
      "* Our experience with cloud-based solutions: https://example.com/xamarin-portfolio\n",
      "* Our expertise in agile development: https://example.com/angular-portfolio\n",
      "\n",
      "Our team is well-equipped to lead and mentor your engineers, develop innovative solutions, and advocate for business transformation and best practices. We would be delighted to discuss how our expertise can support your organization's goals.\n",
      "\n",
      "If you're interested in learning more about our capabilities and how we can support your ITC needs, please don't hesitate to contact me. I'd be happy to schedule a call to explore further.\n",
      "\n",
      "Best regards,\n",
      "\n",
      "Mohan\n",
      "Business Development Executive\n",
      "AtliQ\n"
     ]
    }
   ],
   "source": [
    "prompt_email = PromptTemplate.from_template(\n",
    "        \"\"\"\n",
    "        ### JOB DESCRIPTION:\n",
    "        {job_description}\n",
    "        \n",
    "        ### INSTRUCTION:\n",
    "        You are Mohan, a business development executive at AtliQ. AtliQ is an AI & Software Consulting company dedicated to facilitating\n",
    "        the seamless integration of business processes through automated tools. \n",
    "        Over our experience, we have empowered numerous enterprises with tailored solutions, fostering scalability, \n",
    "        process optimization, cost reduction, and heightened overall efficiency. \n",
    "        Your job is to write a cold email to the client regarding the job mentioned above describing the capability of AtliQ \n",
    "        in fulfilling their needs.\n",
    "        Also add the most relevant ones from the following links to showcase Atliq's portfolio: {link_list}\n",
    "        Remember you are Mohan, BDE at AtliQ. \n",
    "        Do not provide a preamble.\n",
    "        ### EMAIL (NO PREAMBLE):\n",
    "        \n",
    "        \"\"\"\n",
    "        )\n",
    "\n",
    "chain_email = prompt_email | llm\n",
    "res = chain_email.invoke({\"job_description\": str(job), \"link_list\": links})\n",
    "print(res.content)"
   ]
  }
 ],
 "metadata": {
  "kernelspec": {
   "display_name": "coldMail",
   "language": "python",
   "name": "python3"
  },
  "language_info": {
   "codemirror_mode": {
    "name": "ipython",
    "version": 3
   },
   "file_extension": ".py",
   "mimetype": "text/x-python",
   "name": "python",
   "nbconvert_exporter": "python",
   "pygments_lexer": "ipython3",
   "version": "3.12.5"
  }
 },
 "nbformat": 4,
 "nbformat_minor": 2
}
